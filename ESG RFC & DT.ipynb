{
 "cells": [
  {
   "cell_type": "markdown",
   "metadata": {},
   "source": [
    "# Utilizing RandomForestClassifier to classify countries with different ESG Risks"
   ]
  },
  {
   "cell_type": "code",
   "execution_count": 145,
   "metadata": {},
   "outputs": [],
   "source": [
    "import pandas as pd\n",
    "from sklearn.model_selection import train_test_split\n",
    "from sklearn.preprocessing import StandardScaler"
   ]
  },
  {
   "cell_type": "markdown",
   "metadata": {},
   "source": [
    "## Read in the source data, focus on a timeframe with fewest null values"
   ]
  },
  {
   "cell_type": "code",
   "execution_count": 146,
   "metadata": {},
   "outputs": [
    {
     "name": "stdout",
     "output_type": "stream",
     "text": [
      "Country Name                                                                          0\n",
      "Adjusted savings: net forest depletion (% of GNI)                                    17\n",
      "CO2 emissions (metric tons per capita)                                                3\n",
      "Renewable electricity output (% of total electricity output)                          0\n",
      "Unemployment, total (% of total labor force) (modeled ILO estimate)                  15\n",
      "Access to electricity (% of population)                                               2\n",
      "Ratio of female to male labor force participation rate (%) (modeled ILO estimate)    15\n",
      "Individuals using the Internet (% of population)                                      5\n",
      "Government Effectiveness: Estimate                                                    3\n",
      "dtype: int64\n"
     ]
    }
   ],
   "source": [
    "frame = pd.read_csv('ESG_Data.csv')\n",
    "frame = frame.loc[frame.Time == '2010']\n",
    "frame = frame.drop(['Time'], axis=1).drop(['Literacy rate, adult total (% of people ages 15 and above)'], axis=1)\n",
    "print(frame.isnull().sum())"
   ]
  },
  {
   "cell_type": "markdown",
   "metadata": {},
   "source": [
    "## Read in the countries and their target value (classification"
   ]
  },
  {
   "cell_type": "code",
   "execution_count": 147,
   "metadata": {},
   "outputs": [],
   "source": [
    "f = open('Countries.list.txt', 'r')\n",
    "countries_list = [string.rstrip().split() for string in f.readlines()]"
   ]
  },
  {
   "cell_type": "markdown",
   "metadata": {},
   "source": [
    "## Ensure that no countries are in the data frame that we don't have a target val for, and vice versa"
   ]
  },
  {
   "cell_type": "code",
   "execution_count": 149,
   "metadata": {},
   "outputs": [],
   "source": [
    "for name in frame['Country Name'].values:\n",
    "    if not name in [x[0] for x in sorted(countries_list)]:\n",
    "        frame.drop(frame[frame['Country Name'] == name].index, inplace=True)"
   ]
  },
  {
   "cell_type": "code",
   "execution_count": 150,
   "metadata": {},
   "outputs": [],
   "source": [
    "countries_list = [pair for pair in sorted(countries_list) if pair[0] in frame['Country Name'].values]"
   ]
  },
  {
   "cell_type": "markdown",
   "metadata": {},
   "source": [
    "## Add target column to data frame"
   ]
  },
  {
   "cell_type": "code",
   "execution_count": 153,
   "metadata": {},
   "outputs": [],
   "source": [
    "target = [pair[1] for pair in countries_list]\n",
    "frame['Target'] = target\n",
    "frame.dropna(inplace=True)"
   ]
  },
  {
   "cell_type": "code",
   "execution_count": 158,
   "metadata": {},
   "outputs": [
    {
     "data": {
      "text/html": [
       "<div>\n",
       "<style scoped>\n",
       "    .dataframe tbody tr th:only-of-type {\n",
       "        vertical-align: middle;\n",
       "    }\n",
       "\n",
       "    .dataframe tbody tr th {\n",
       "        vertical-align: top;\n",
       "    }\n",
       "\n",
       "    .dataframe thead th {\n",
       "        text-align: right;\n",
       "    }\n",
       "</style>\n",
       "<table border=\"1\" class=\"dataframe\">\n",
       "  <thead>\n",
       "    <tr style=\"text-align: right;\">\n",
       "      <th></th>\n",
       "      <th>Country Name</th>\n",
       "      <th>Adjusted savings: net forest depletion (% of GNI)</th>\n",
       "      <th>CO2 emissions (metric tons per capita)</th>\n",
       "      <th>Renewable electricity output (% of total electricity output)</th>\n",
       "      <th>Unemployment, total (% of total labor force) (modeled ILO estimate)</th>\n",
       "      <th>Access to electricity (% of population)</th>\n",
       "      <th>Ratio of female to male labor force participation rate (%) (modeled ILO estimate)</th>\n",
       "      <th>Individuals using the Internet (% of population)</th>\n",
       "      <th>Government Effectiveness: Estimate</th>\n",
       "      <th>Target</th>\n",
       "    </tr>\n",
       "  </thead>\n",
       "  <tbody>\n",
       "    <tr>\n",
       "      <th>0</th>\n",
       "      <td>Afghanistan</td>\n",
       "      <td>0.206708</td>\n",
       "      <td>0.289988</td>\n",
       "      <td>85.986547</td>\n",
       "      <td>11.52</td>\n",
       "      <td>42.700000</td>\n",
       "      <td>19.215139</td>\n",
       "      <td>4.0</td>\n",
       "      <td>-1.454683</td>\n",
       "      <td>VHigh</td>\n",
       "    </tr>\n",
       "    <tr>\n",
       "      <th>2</th>\n",
       "      <td>Algeria</td>\n",
       "      <td>0.107828</td>\n",
       "      <td>3.312561</td>\n",
       "      <td>0.380461</td>\n",
       "      <td>9.96</td>\n",
       "      <td>98.877625</td>\n",
       "      <td>20.528571</td>\n",
       "      <td>12.5</td>\n",
       "      <td>-0.479542</td>\n",
       "      <td>Medium</td>\n",
       "    </tr>\n",
       "    <tr>\n",
       "      <th>4</th>\n",
       "      <td>Angola</td>\n",
       "      <td>0.000000</td>\n",
       "      <td>1.244092</td>\n",
       "      <td>67.957423</td>\n",
       "      <td>9.43</td>\n",
       "      <td>33.393711</td>\n",
       "      <td>96.069474</td>\n",
       "      <td>2.8</td>\n",
       "      <td>-1.117896</td>\n",
       "      <td>High</td>\n",
       "    </tr>\n",
       "    <tr>\n",
       "      <th>6</th>\n",
       "      <td>Argentina</td>\n",
       "      <td>0.000000</td>\n",
       "      <td>4.606804</td>\n",
       "      <td>28.585456</td>\n",
       "      <td>7.71</td>\n",
       "      <td>98.820000</td>\n",
       "      <td>64.832344</td>\n",
       "      <td>45.0</td>\n",
       "      <td>-0.162790</td>\n",
       "      <td>Low</td>\n",
       "    </tr>\n",
       "    <tr>\n",
       "      <th>7</th>\n",
       "      <td>Armenia</td>\n",
       "      <td>0.122945</td>\n",
       "      <td>1.463069</td>\n",
       "      <td>39.485441</td>\n",
       "      <td>19.01</td>\n",
       "      <td>99.800000</td>\n",
       "      <td>69.412809</td>\n",
       "      <td>25.0</td>\n",
       "      <td>-0.183843</td>\n",
       "      <td>Low</td>\n",
       "    </tr>\n",
       "  </tbody>\n",
       "</table>\n",
       "</div>"
      ],
      "text/plain": [
       "  Country Name  Adjusted savings: net forest depletion (% of GNI)  \\\n",
       "0  Afghanistan                                           0.206708   \n",
       "2      Algeria                                           0.107828   \n",
       "4       Angola                                           0.000000   \n",
       "6    Argentina                                           0.000000   \n",
       "7      Armenia                                           0.122945   \n",
       "\n",
       "   CO2 emissions (metric tons per capita)  \\\n",
       "0                                0.289988   \n",
       "2                                3.312561   \n",
       "4                                1.244092   \n",
       "6                                4.606804   \n",
       "7                                1.463069   \n",
       "\n",
       "   Renewable electricity output (% of total electricity output)  \\\n",
       "0                                          85.986547              \n",
       "2                                           0.380461              \n",
       "4                                          67.957423              \n",
       "6                                          28.585456              \n",
       "7                                          39.485441              \n",
       "\n",
       "   Unemployment, total (% of total labor force) (modeled ILO estimate)  \\\n",
       "0                                              11.52                     \n",
       "2                                               9.96                     \n",
       "4                                               9.43                     \n",
       "6                                               7.71                     \n",
       "7                                              19.01                     \n",
       "\n",
       "   Access to electricity (% of population)  \\\n",
       "0                                42.700000   \n",
       "2                                98.877625   \n",
       "4                                33.393711   \n",
       "6                                98.820000   \n",
       "7                                99.800000   \n",
       "\n",
       "   Ratio of female to male labor force participation rate (%) (modeled ILO estimate)  \\\n",
       "0                                          19.215139                                   \n",
       "2                                          20.528571                                   \n",
       "4                                          96.069474                                   \n",
       "6                                          64.832344                                   \n",
       "7                                          69.412809                                   \n",
       "\n",
       "   Individuals using the Internet (% of population)  \\\n",
       "0                                               4.0   \n",
       "2                                              12.5   \n",
       "4                                               2.8   \n",
       "6                                              45.0   \n",
       "7                                              25.0   \n",
       "\n",
       "   Government Effectiveness: Estimate  Target  \n",
       "0                           -1.454683   VHigh  \n",
       "2                           -0.479542  Medium  \n",
       "4                           -1.117896    High  \n",
       "6                           -0.162790     Low  \n",
       "7                           -0.183843     Low  "
      ]
     },
     "execution_count": 158,
     "metadata": {},
     "output_type": "execute_result"
    }
   ],
   "source": [
    "frame.head()"
   ]
  },
  {
   "cell_type": "code",
   "execution_count": 164,
   "metadata": {},
   "outputs": [],
   "source": [
    "X = frame.drop(['Target', 'Country Name'], axis=1).values\n",
    "y = frame.Target.values"
   ]
  },
  {
   "cell_type": "markdown",
   "metadata": {},
   "source": [
    "## Split and standardize"
   ]
  },
  {
   "cell_type": "code",
   "execution_count": 167,
   "metadata": {},
   "outputs": [],
   "source": [
    "X_train, X_test, y_train, y_test = train_test_split(X, y, test_size=0.30, random_state=42)\n",
    "sc = StandardScaler()\n",
    "sc.fit(X_train)\n",
    "X_train = sc.transform(X_train)\n",
    "X_test = sc.transform(X_test)"
   ]
  },
  {
   "cell_type": "markdown",
   "metadata": {},
   "source": [
    "## Train the RFC, and score it"
   ]
  },
  {
   "cell_type": "code",
   "execution_count": 172,
   "metadata": {},
   "outputs": [
    {
     "data": {
      "text/plain": [
       "RandomForestClassifier()"
      ]
     },
     "execution_count": 172,
     "metadata": {},
     "output_type": "execute_result"
    }
   ],
   "source": [
    "from sklearn.ensemble import RandomForestClassifier\n",
    "RFC = RandomForestClassifier()\n",
    "\n",
    "RFC.fit(X_train, y_train)"
   ]
  },
  {
   "cell_type": "code",
   "execution_count": 173,
   "metadata": {},
   "outputs": [
    {
     "data": {
      "text/plain": [
       "0.6923076923076923"
      ]
     },
     "execution_count": 173,
     "metadata": {},
     "output_type": "execute_result"
    }
   ],
   "source": [
    "RFC.score(X_test, y_test)"
   ]
  },
  {
   "cell_type": "markdown",
   "metadata": {},
   "source": [
    "## GridSearch to Optimize"
   ]
  },
  {
   "cell_type": "code",
   "execution_count": 195,
   "metadata": {},
   "outputs": [],
   "source": [
    "from sklearn.model_selection import GridSearchCV\n",
    "param_grid = {'n_estimators' : [10, 50, 100, 300], \n",
    "              'max_depth' : [10, 20, 50, 100], \n",
    "              'class_weight' : ['balanced', 'balanced_subsample'],\n",
    "              'max_leaf_nodes' : [50, 60, 70, 80, 100]}\n",
    "\n",
    "rfc = RandomForestClassifier(n_jobs=-1)\n",
    "\n",
    "search = GridSearchCV(estimator=rfc, param_grid=param_grid)"
   ]
  },
  {
   "cell_type": "code",
   "execution_count": 196,
   "metadata": {},
   "outputs": [
    {
     "data": {
      "text/plain": [
       "GridSearchCV(estimator=RandomForestClassifier(n_jobs=-1),\n",
       "             param_grid={'class_weight': ['balanced', 'balanced_subsample'],\n",
       "                         'max_depth': [10, 20, 50, 100],\n",
       "                         'max_leaf_nodes': [50, 60, 70, 80, 100],\n",
       "                         'n_estimators': [10, 50, 100, 300]})"
      ]
     },
     "execution_count": 196,
     "metadata": {},
     "output_type": "execute_result"
    }
   ],
   "source": [
    "search.fit(X_train, y_train)"
   ]
  },
  {
   "cell_type": "code",
   "execution_count": 197,
   "metadata": {},
   "outputs": [
    {
     "name": "stdout",
     "output_type": "stream",
     "text": [
      "0.717948717948718\n",
      "{'class_weight': 'balanced', 'max_depth': 100, 'max_leaf_nodes': 60, 'n_estimators': 100}\n"
     ]
    }
   ],
   "source": [
    "best = search.best_estimator_\n",
    "print(best.score(X_test, y_test))\n",
    "print(search.best_params_)"
   ]
  },
  {
   "cell_type": "code",
   "execution_count": 198,
   "metadata": {},
   "outputs": [
    {
     "data": {
      "text/plain": [
       "1.0"
      ]
     },
     "execution_count": 198,
     "metadata": {},
     "output_type": "execute_result"
    }
   ],
   "source": [
    "best.score(X_train, y_train)"
   ]
  },
  {
   "cell_type": "markdown",
   "metadata": {},
   "source": [
    "^^^ The high training accuracy but low test accuracy indicates extreme overfitting: I believe it's mostly owing to the small size of the dataset"
   ]
  }
 ],
 "metadata": {
  "kernelspec": {
   "display_name": "Python 3",
   "language": "python",
   "name": "python3"
  },
  "language_info": {
   "codemirror_mode": {
    "name": "ipython",
    "version": 3
   },
   "file_extension": ".py",
   "mimetype": "text/x-python",
   "name": "python",
   "nbconvert_exporter": "python",
   "pygments_lexer": "ipython3",
   "version": "3.6.9"
  }
 },
 "nbformat": 4,
 "nbformat_minor": 4
}
